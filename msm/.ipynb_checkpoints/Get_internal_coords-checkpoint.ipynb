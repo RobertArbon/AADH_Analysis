{
 "cells": [
  {
   "cell_type": "code",
   "execution_count": 2,
   "metadata": {
    "collapsed": true
   },
   "outputs": [],
   "source": [
    "import MDAnalysis\n",
    "from MDAnalysis.tests.datafiles import PSF, DCD   # test trajectory\n",
    "import numpy.linalg\n",
    "import numpy as np\n",
    "import pickle "
   ]
  },
  {
   "cell_type": "code",
   "execution_count": 3,
   "metadata": {
    "collapsed": true
   },
   "outputs": [],
   "source": [
    "u = MDAnalysis.Universe('../data/2agy_final.psf', '../data/2agy-310k-1atm-prod1.dcd')"
   ]
  },
  {
   "cell_type": "code",
   "execution_count": 4,
   "metadata": {
    "collapsed": false
   },
   "outputs": [
    {
     "name": "stdout",
     "output_type": "stream",
     "text": [
      "<Universe with 230161 atoms and 229944 bonds>\n"
     ]
    }
   ],
   "source": [
    "print(u)"
   ]
  },
  {
   "cell_type": "code",
   "execution_count": 5,
   "metadata": {
    "collapsed": false
   },
   "outputs": [
    {
     "name": "stdout",
     "output_type": "stream",
     "text": [
      "<SegmentGroup [<Segment AL1>, <Segment BT1>, <Segment AL2>, <Segment BT2>, <Segment XWAT>, <Segment BWAT>, <Segment ION>]>\n"
     ]
    }
   ],
   "source": [
    "print(u.atoms.segments)"
   ]
  },
  {
   "cell_type": "code",
   "execution_count": 6,
   "metadata": {
    "collapsed": true
   },
   "outputs": [],
   "source": [
    "act_site1 = u.select_atoms('segid BT1 and (resid 39 or resid 58)')\n",
    "act_site2 = u.select_atoms('segid BT2 and (resid 39 or resid 58)')"
   ]
  },
  {
   "cell_type": "code",
   "execution_count": 7,
   "metadata": {
    "collapsed": false
   },
   "outputs": [
    {
     "name": "stderr",
     "output_type": "stream",
     "text": [
      "/Users/robert_arbon/anaconda/lib/python2.7/site-packages/IPython/core/formatters.py:92: DeprecationWarning: DisplayFormatter._ipython_display_formatter_default is deprecated: use @default decorator instead.\n",
      "  def _ipython_display_formatter_default(self):\n",
      "/Users/robert_arbon/anaconda/lib/python2.7/site-packages/IPython/core/formatters.py:98: DeprecationWarning: DisplayFormatter._formatters_default is deprecated: use @default decorator instead.\n",
      "  def _formatters_default(self):\n",
      "/Users/robert_arbon/anaconda/lib/python2.7/site-packages/IPython/core/formatters.py:677: DeprecationWarning: PlainTextFormatter._deferred_printers_default is deprecated: use @default decorator instead.\n",
      "  def _deferred_printers_default(self):\n",
      "/Users/robert_arbon/anaconda/lib/python2.7/site-packages/IPython/core/formatters.py:669: DeprecationWarning: PlainTextFormatter._singleton_printers_default is deprecated: use @default decorator instead.\n",
      "  def _singleton_printers_default(self):\n",
      "/Users/robert_arbon/anaconda/lib/python2.7/site-packages/IPython/core/formatters.py:672: DeprecationWarning: PlainTextFormatter._type_printers_default is deprecated: use @default decorator instead.\n",
      "  def _type_printers_default(self):\n"
     ]
    },
    {
     "data": {
      "text/plain": [
       "6067"
      ]
     },
     "execution_count": 7,
     "metadata": {},
     "output_type": "execute_result"
    }
   ],
   "source": [
    "dihe = act_site1.dihedrals\n",
    "dihe[0][0].index"
   ]
  },
  {
   "cell_type": "markdown",
   "metadata": {},
   "source": [
    "## Extract Active Site"
   ]
  },
  {
   "cell_type": "code",
   "execution_count": 8,
   "metadata": {
    "collapsed": false
   },
   "outputs": [],
   "source": [
    "with MDAnalysis.Writer(\"traj1-as1.dcd\", act_site1.n_atoms) as W:\n",
    "    for ts in u.trajectory:\n",
    "        W.write(act_site1)"
   ]
  },
  {
   "cell_type": "code",
   "execution_count": 9,
   "metadata": {
    "collapsed": false
   },
   "outputs": [],
   "source": [
    "with MDAnalysis.Writer(\"act_site.pdb\", act_site1.n_atoms) as W:\n",
    "    W.write(act_site1)"
   ]
  },
  {
   "cell_type": "markdown",
   "metadata": {},
   "source": [
    "### Get internal coordinates"
   ]
  },
  {
   "cell_type": "code",
   "execution_count": 30,
   "metadata": {
    "collapsed": false
   },
   "outputs": [],
   "source": [
    "# Dihedrals, angles and index mapping\n",
    "dihedrals = []\n",
    "angles = []\n",
    "bonds = []\n",
    "indices = []\n",
    "lens = []\n",
    "for res in act_site1.residues:\n",
    "    min_idx = res.atoms.indices.min()\n",
    "    max_idx = res.atoms.indices.max()\n",
    "    indices.extend(res.atoms.indices)\n",
    "    # Dihedrals\n",
    "    tmp = []\n",
    "    for dihe in res.atoms.dihedrals:\n",
    "        too_small = (np.any(dihe.indices < min_idx))\n",
    "        too_big = (np.any(dihe.indices > max_idx))\n",
    "        if not(too_small) and not(too_big):\n",
    "            tmp.append(list(dihe.indices))\n",
    "    dihedrals.extend(tmp)\n",
    "    # Angles\n",
    "    tmp = []\n",
    "    for ang in res.atoms.angles:\n",
    "        too_small = (np.any(ang.indices < min_idx))\n",
    "        too_big = (np.any(ang.indices > max_idx))\n",
    "        if not(too_small) and not(too_big):\n",
    "            tmp.append(list(ang.indices))\n",
    "    angles.extend(tmp)\n",
    "    # Bonds\n",
    "    tmp = []\n",
    "    for bond in res.atoms.bonds:\n",
    "        too_small = (np.any(bond.indices < min_idx))\n",
    "        too_big = (np.any(bond.indices > max_idx))\n",
    "        if not(too_small) and not(too_big):\n",
    "            if not(np.any(np.array([x[0] for x in bond.type])=='H')):\n",
    "                tmp.append(list(bond.indices))\n",
    "    bonds.extend(tmp)\n",
    "    \n",
    "# Generate map\n",
    "indices = np.sort(np.array(indices))\n",
    "new_indices = np.arange(len(indices))+1\n",
    "idx_map = dict(zip(indices, new_indices))\n",
    "\n",
    "# Apply map to angles and dihedrals\n",
    "dihedrals = np.array(dihedrals)\n",
    "func = lambda t: idx_map[t]\n",
    "vfunc = np.vectorize(func)\n",
    "\n",
    "dihedrals = vfunc(dihedrals)\n",
    "angles = vfunc(np.array(angles))\n",
    "bonds = vfunc(np.array(bonds))\n",
    "# Want all possible \n",
    "\n",
    " \n",
    "    "
   ]
  },
  {
   "cell_type": "code",
   "execution_count": 31,
   "metadata": {
    "collapsed": false
   },
   "outputs": [],
   "source": [
    "pickle.dump(dihedrals, open('act_site_dihe.p', 'wb'))\n",
    "pickle.dump(angles, open('act_site_ang.p', 'wb'))\n",
    "pickle.dump(bonds, open('act_site_bond.p', 'wb'))"
   ]
  },
  {
   "cell_type": "code",
   "execution_count": null,
   "metadata": {
    "collapsed": true
   },
   "outputs": [],
   "source": []
  }
 ],
 "metadata": {
  "kernelspec": {
   "display_name": "Python 2",
   "language": "python",
   "name": "python2"
  },
  "language_info": {
   "codemirror_mode": {
    "name": "ipython",
    "version": 2
   },
   "file_extension": ".py",
   "mimetype": "text/x-python",
   "name": "python",
   "nbconvert_exporter": "python",
   "pygments_lexer": "ipython2",
   "version": "2.7.12"
  }
 },
 "nbformat": 4,
 "nbformat_minor": 0
}
