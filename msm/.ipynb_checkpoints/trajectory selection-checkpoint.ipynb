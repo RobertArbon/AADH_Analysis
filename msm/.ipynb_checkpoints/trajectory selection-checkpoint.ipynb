{
 "cells": [
  {
   "cell_type": "code",
   "execution_count": 2,
   "metadata": {
    "collapsed": false
   },
   "outputs": [],
   "source": [
    "import mdtraj as md\n",
    "from glob import glob\n",
    "\n",
    "# LOAD TOPOLOGY AND TRAJECTORIES\n",
    "indir = '../data'\n",
    "topfile = indir+'/2agy_final.pdb'\n",
    "topology = md.load(topfile).topology"
   ]
  },
  {
   "cell_type": "code",
   "execution_count": 3,
   "metadata": {
    "collapsed": false,
    "scrolled": true
   },
   "outputs": [
    {
     "name": "stdout",
     "output_type": "stream",
     "text": [
      "<mdtraj.Topology with 1 chains, 73137 residues, 230161 atoms, 158057 bonds>\n"
     ]
    }
   ],
   "source": [
    "print(topology)"
   ]
  },
  {
   "cell_type": "code",
   "execution_count": 4,
   "metadata": {
    "collapsed": false
   },
   "outputs": [
    {
     "name": "stdout",
     "output_type": "stream",
     "text": [
      "HOH    215325\n",
      "VAL      1248\n",
      "LYS      1100\n",
      "LEU      1064\n",
      "ARG      1056\n",
      "THR       954\n",
      "ASP       816\n",
      "ILE       760\n",
      "PHE       720\n",
      "TYR       714\n",
      "SER       682\n",
      "PRO       672\n",
      "ASN       646\n",
      "GLY       602\n",
      "GLU       600\n",
      "HIS       548\n",
      "GLN       544\n",
      "ALA       540\n",
      "MET       408\n",
      "TRP       334\n",
      "CYS       322\n",
      "SOD       214\n",
      "CLA       202\n",
      "TTW        90\n",
      "Name: resName, dtype: int64\n",
      "230161\n",
      "(230161, 7)\n",
      "   serial name element  resSeq resName  chainID segmentID\n",
      "0       1    N       N       1     ARG        0       AL1\n",
      "1       2    H       H       1     ARG        0       AL1\n",
      "2       3   CA       C       1     ARG        0       AL1\n",
      "3       4   HA       H       1     ARG        0       AL1\n",
      "4       5   CB       C       1     ARG        0       AL1\n",
      "(230161, 7)\n",
      "HOH    215325\n",
      "VAL      1248\n",
      "LYS      1100\n",
      "LEU      1064\n",
      "ARG      1056\n",
      "THR       954\n",
      "ASP       816\n",
      "ILE       760\n",
      "PHE       720\n",
      "TYR       714\n",
      "SER       682\n",
      "PRO       672\n",
      "ASN       646\n",
      "GLY       602\n",
      "GLU       600\n",
      "HIS       548\n",
      "GLN       544\n",
      "ALA       540\n",
      "MET       408\n",
      "TRP       334\n",
      "CYS       322\n",
      "SOD       214\n",
      "CLA       202\n",
      "TTW        90\n",
      "Name: resName, dtype: int64\n",
      "230161\n"
     ]
    }
   ],
   "source": [
    "table, bonds = topology.to_dataframe()\n",
    "print(table['resName'].value_counts())\n",
    "print(table['resName'].value_counts().sum())\n",
    "print(table.shape)\n",
    "table['segmentID'].unique()\n",
    "chains = {'AL1':0, 'AL2':1, 'BT1':2, 'BT2':3, 'XWAT':4, 'BWAT':5, 'ION':6}\n",
    "table['chainID'] = table['segmentID'].map(chains)\n",
    "print(table.head())\n",
    "print(table.shape)\n",
    "print(table['resName'].value_counts())\n",
    "print(table['resName'].value_counts().sum())\n"
   ]
  },
  {
   "cell_type": "code",
   "execution_count": 5,
   "metadata": {
    "collapsed": false
   },
   "outputs": [],
   "source": [
    "topology = topology.from_dataframe(table, bonds)"
   ]
  },
  {
   "cell_type": "markdown",
   "metadata": {},
   "source": [
    "## Load Data"
   ]
  },
  {
   "cell_type": "code",
   "execution_count": 6,
   "metadata": {
    "collapsed": false
   },
   "outputs": [],
   "source": [
    "traj_list = glob(indir+'/*.dcd')\n",
    "for traj_file in traj_list:\n",
    "    traj = md.load(traj_file, top=topology)\n",
    "    activesite1 = topology.select('chainid 2 and (residue 39 or residue 58)')\n",
    "    as_traj = traj.atom_slice(activesite)\n",
    "    as_top = as_traj[0]\n",
    "    as_traj.save_pdb('2agy-310k-1atm-prod1-as.pdb')"
   ]
  },
  {
   "cell_type": "code",
   "execution_count": 10,
   "metadata": {
    "collapsed": false
   },
   "outputs": [],
   "source": [
    "activesite = topology.select('chainid 2 and (residue 39 or residue 58)')\n",
    "as_traj = traj.atom_slice(activesite)\n",
    "as_top = as_traj[0]\n",
    "as_traj.save_pdb('2agy-310k-1atm-prod1-as.pdb')\n",
    "as_top.save_pdb('as-topology.pdb')\n"
   ]
  },
  {
   "cell_type": "code",
   "execution_count": null,
   "metadata": {
    "collapsed": true
   },
   "outputs": [],
   "source": []
  }
 ],
 "metadata": {
  "kernelspec": {
   "display_name": "Python 2",
   "language": "python",
   "name": "python2"
  },
  "language_info": {
   "codemirror_mode": {
    "name": "ipython",
    "version": 2
   },
   "file_extension": ".py",
   "mimetype": "text/x-python",
   "name": "python",
   "nbconvert_exporter": "python",
   "pygments_lexer": "ipython2",
   "version": "2.7.12"
  }
 },
 "nbformat": 4,
 "nbformat_minor": 0
}
