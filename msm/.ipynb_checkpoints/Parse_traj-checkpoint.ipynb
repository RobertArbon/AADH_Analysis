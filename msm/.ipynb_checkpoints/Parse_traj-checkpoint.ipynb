{
 "cells": [
  {
   "cell_type": "code",
   "execution_count": 4,
   "metadata": {
    "collapsed": true
   },
   "outputs": [],
   "source": [
    "import MDAnalysis\n",
    "import numpy.linalg\n",
    "import numpy as np\n",
    "import pickle \n",
    "from MDAnalysis.analysis.align import *\n"
   ]
  },
  {
   "cell_type": "code",
   "execution_count": 20,
   "metadata": {
    "collapsed": false
   },
   "outputs": [],
   "source": [
    "trj = MDAnalysis.Universe('../common/2agy_final.psf', '../data/2agy-310k-1atm-prod1.dcd')\n",
    "ref = MDAnalysis.Universe('../common/2agy_final.psf', '../data/2agy-310k-1atm-prod1.dcd')\n",
    "act_site1 = 'segid BT1 and (resid 39 or resid 58)'\n",
    "act_site2 = 'segid BT2 and (resid 39 or resid 58)'"
   ]
  },
  {
   "cell_type": "code",
   "execution_count": 34,
   "metadata": {
    "collapsed": false
   },
   "outputs": [
    {
     "name": "stderr",
     "output_type": "stream",
     "text": [
      "Fitted frame  1000/1000  [100.0%]\n"
     ]
    },
    {
     "data": {
      "text/plain": [
       "'rmsfit.dcd'"
      ]
     },
     "execution_count": 34,
     "metadata": {},
     "output_type": "execute_result"
    }
   ],
   "source": [
    "ref.trajectory[0]\n",
    "rms_fit_trj(trj, ref, select=act_site1, filename='rmsfit.dcd')"
   ]
  },
  {
   "cell_type": "code",
   "execution_count": 35,
   "metadata": {
    "collapsed": false
   },
   "outputs": [],
   "source": [
    "trj = MDAnalysis.Universe('../common/2agy_final.psf', 'rmsfit.dcd')\n",
    "natoms = trj.select_atoms(act_site1).n_atoms\n",
    "\n",
    "with MDAnalysis.Writer('rmsfit-traj1-as1.dcd', multiframe=True, n_atoms=natoms) as dcd:\n",
    "    for ts in trj.trajectory:\n",
    "        dcd.write(trj.select_atoms(act_site1))\n"
   ]
  },
  {
   "cell_type": "code",
   "execution_count": 19,
   "metadata": {
    "collapsed": true
   },
   "outputs": [],
   "source": []
  },
  {
   "cell_type": "code",
   "execution_count": null,
   "metadata": {
    "collapsed": true
   },
   "outputs": [],
   "source": []
  }
 ],
 "metadata": {
  "kernelspec": {
   "display_name": "Python 2",
   "language": "python",
   "name": "python2"
  },
  "language_info": {
   "codemirror_mode": {
    "name": "ipython",
    "version": 2
   },
   "file_extension": ".py",
   "mimetype": "text/x-python",
   "name": "python",
   "nbconvert_exporter": "python",
   "pygments_lexer": "ipython2",
   "version": "2.7.12"
  }
 },
 "nbformat": 4,
 "nbformat_minor": 0
}
