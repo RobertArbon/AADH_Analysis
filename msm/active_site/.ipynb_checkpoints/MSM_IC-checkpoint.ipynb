{
 "cells": [
  {
   "cell_type": "code",
   "execution_count": 16,
   "metadata": {
    "collapsed": false
   },
   "outputs": [
    {
     "name": "stdout",
     "output_type": "stream",
     "text": [
      "Populating the interactive namespace from numpy and matplotlib\n"
     ]
    }
   ],
   "source": [
    "%pylab inline\n",
    "import pyemma.coordinates as coor\n",
    "import pyemma.msm as msm\n",
    "import pyemma.plots as mplt\n",
    "from glob import glob\n",
    "import pickle\n",
    "import numpy as np\n",
    "import matplotlib.pyplot as plt\n",
    "import sys"
   ]
  },
  {
   "cell_type": "markdown",
   "metadata": {},
   "source": [
    "## Globals"
   ]
  },
  {
   "cell_type": "code",
   "execution_count": 17,
   "metadata": {
    "collapsed": true
   },
   "outputs": [],
   "source": [
    "ttw = np.arange(0,45)\n",
    "asp = np.arange(45,57)\n",
    "groups = [ttw, asp]\n",
    "topfile = 'act_site.pdb'\n",
    "feat = coor.featurizer(topfile)"
   ]
  },
  {
   "cell_type": "code",
   "execution_count": 18,
   "metadata": {
    "collapsed": false
   },
   "outputs": [
    {
     "name": "stdout",
     "output_type": "stream",
     "text": [
      "('number of trajectories = ', 220)\n",
      "('trajectory length = ', 1000)\n",
      "('trajectory time step = ', 1, 'ps')\n"
     ]
    }
   ],
   "source": [
    "traj_list = glob('aligned/*as[12]-aligned.dcd')\n",
    "inp = coor.source(traj_list, feat)\n",
    "print('number of trajectories = ',inp.number_of_trajectories())\n",
    "print('trajectory length = ',inp.trajectory_length(0))\n",
    "print('trajectory time step = ',1000 / (inp.trajectory_length(0)),'ps')"
   ]
  },
  {
   "cell_type": "markdown",
   "metadata": {},
   "source": [
    "## Add features"
   ]
  },
  {
   "cell_type": "code",
   "execution_count": 38,
   "metadata": {
    "collapsed": false
   },
   "outputs": [
    {
     "name": "stdout",
     "output_type": "stream",
     "text": [
      "[0 2 3]\n",
      "[0 2 4]\n",
      "[ 0  2 43]\n",
      "[1 0 2]\n",
      "[2 4 5]\n",
      "[2 4 6]\n",
      "[2 4 7]\n",
      "[ 2 43 44]\n",
      "[3 2 4]\n",
      "[ 3  2 43]\n",
      "[ 4  2 43]\n",
      "[4 7 8]\n",
      "[ 4  7 13]\n",
      "[5 4 6]\n",
      "[5 4 7]\n",
      "[6 4 7]\n",
      "[7 8 9]\n",
      "[ 7  8 10]\n",
      "[ 7 13 12]\n",
      "[ 7 13 14]\n",
      "[ 8  7 13]\n",
      "[ 8 10 11]\n",
      "[ 8 10 12]\n",
      "[ 9  8 10]\n",
      "[10 12 13]\n",
      "[10 12 17]\n",
      "[11 10 12]\n",
      "[12 13 14]\n",
      "[12 17 18]\n",
      "[12 17 19]\n",
      "[13 12 17]\n",
      "[13 14 15]\n",
      "[14 15 16]\n",
      "[14 15 19]\n",
      "[15 19 17]\n",
      "[15 19 20]\n",
      "[16 15 19]\n",
      "[17 19 20]\n",
      "[18 17 19]\n",
      "[19 20 21]\n",
      "[19 20 22]\n",
      "[20 22 23]\n",
      "[20 22 24]\n",
      "[20 22 25]\n",
      "[21 20 22]\n",
      "[22 25 26]\n",
      "[22 25 27]\n",
      "[22 25 28]\n",
      "[23 22 24]\n",
      "[23 22 25]\n",
      "[24 22 25]\n",
      "[25 28 29]\n",
      "[25 28 34]\n",
      "[26 25 27]\n",
      "[26 25 28]\n",
      "[27 25 28]\n",
      "[28 29 30]\n",
      "[28 29 31]\n",
      "[28 34 33]\n",
      "[28 34 41]\n",
      "[29 28 34]\n",
      "[29 31 32]\n",
      "[29 31 33]\n",
      "[30 29 31]\n",
      "[31 33 34]\n",
      "[31 33 35]\n",
      "[32 31 33]\n",
      "[33 34 41]\n",
      "[33 35 36]\n",
      "[33 35 39]\n",
      "[34 33 35]\n",
      "[34 41 37]\n",
      "[34 41 42]\n",
      "[35 39 37]\n",
      "[35 39 40]\n",
      "[36 35 39]\n",
      "[37 39 40]\n",
      "[37 41 42]\n",
      "[38 37 39]\n",
      "[38 37 41]\n",
      "[39 37 41]\n",
      "[45 47 48]\n",
      "[45 47 49]\n",
      "[45 47 55]\n",
      "[46 45 47]\n",
      "[47 49 50]\n",
      "[47 49 51]\n",
      "[47 49 52]\n",
      "[47 55 56]\n",
      "[48 47 49]\n",
      "[48 47 55]\n",
      "[49 47 55]\n",
      "[49 52 53]\n",
      "[49 52 54]\n",
      "[50 49 51]\n",
      "[50 49 52]\n",
      "[51 49 52]\n",
      "[53 52 54]\n"
     ]
    }
   ],
   "source": [
    "all_atoms = np.arange(1, 58, 1)\n",
    "hydrogen = np.array([1, 4, 6, 7, 12, 17, 22, 24, 25, 28, 31, 33, 37, 39, 41, 43, 47, 51, 52])\n",
    "heavy_atoms = np.setdiff1d(all_atoms, hydrogen)\n",
    "aromatic = np.array(range(8,21)+range(31,43))\n",
    "arom_join = np.array([8,9,14,29,30,35])\n",
    "arom_nonjoin = np.setdiff1d(aromatic, arom_join)\n",
    "\n",
    "# joint is the flexible bit of the molecule where the substrate binds to the enzume.  \n",
    "# Inpsection of some of the \n",
    "joint = np.array([15, 17, 19, 20, 22, 25, 28, 29, 34]) - 1\n",
    "angles = pickle.load(open('act_site_ang.p', 'rb'))-1\n",
    "bonds = pickle.load(open('act_site_bond.p', 'rb'))-1\n",
    "dihedrals = pickle.load(open('act_site_dihe.p', 'rb'))-1\n",
    "for ang in angles:\n",
    "    print(ang)\n",
    "    print(np.in1d(ang, joint)\n",
    "          \n",
    "    if np.in1d(ang, joint).all():\n",
    "        print ang\n",
    "# feat.add_dihedrals(dihedrals, cossin=True)\n",
    "# print(inp.dimension())\n",
    "# print(inp.describe())"
   ]
  },
  {
   "cell_type": "code",
   "execution_count": 35,
   "metadata": {
    "collapsed": false
   },
   "outputs": [
    {
     "data": {
      "text/plain": [
       "False"
      ]
     },
     "execution_count": 35,
     "metadata": {},
     "output_type": "execute_result"
    }
   ],
   "source": [
    "np.array([True, False, False]).any()\n",
    "np.array([True, False, False]).all()"
   ]
  },
  {
   "cell_type": "code",
   "execution_count": null,
   "metadata": {
    "collapsed": true
   },
   "outputs": [],
   "source": []
  }
 ],
 "metadata": {
  "kernelspec": {
   "display_name": "Python 2",
   "language": "python",
   "name": "python2"
  },
  "language_info": {
   "codemirror_mode": {
    "name": "ipython",
    "version": 2
   },
   "file_extension": ".py",
   "mimetype": "text/x-python",
   "name": "python",
   "nbconvert_exporter": "python",
   "pygments_lexer": "ipython2",
   "version": "2.7.12"
  }
 },
 "nbformat": 4,
 "nbformat_minor": 0
}
