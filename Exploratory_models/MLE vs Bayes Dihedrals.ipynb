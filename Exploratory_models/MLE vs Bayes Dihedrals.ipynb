{
 "cells": [
  {
   "cell_type": "code",
   "execution_count": 1,
   "metadata": {
    "collapsed": false
   },
   "outputs": [
    {
     "data": {
      "text/plain": [
       "'2.4'"
      ]
     },
     "execution_count": 1,
     "metadata": {},
     "output_type": "execute_result"
    }
   ],
   "source": [
    "from __future__ import print_function\n",
    "import pyemma\n",
    "pyemma.__version__"
   ]
  },
  {
   "cell_type": "code",
   "execution_count": 2,
   "metadata": {
    "collapsed": false
   },
   "outputs": [
    {
     "name": "stdout",
     "output_type": "stream",
     "text": [
      "Populating the interactive namespace from numpy and matplotlib\n"
     ]
    }
   ],
   "source": [
    "import os\n",
    "%pylab inline\n",
    "matplotlib.rcParams.update({'font.size': 12})"
   ]
  },
  {
   "cell_type": "code",
   "execution_count": 3,
   "metadata": {
    "collapsed": true
   },
   "outputs": [],
   "source": [
    "import pyemma.coordinates as coor\n",
    "import pyemma.msm as msm\n",
    "import pyemma.plots as mplt"
   ]
  },
  {
   "cell_type": "code",
   "execution_count": 54,
   "metadata": {
    "collapsed": false
   },
   "outputs": [],
   "source": [
    "import pandas as pd\n",
    "import seaborn as sns"
   ]
  },
  {
   "cell_type": "code",
   "execution_count": 4,
   "metadata": {
    "collapsed": true
   },
   "outputs": [],
   "source": [
    "indir = '../Data/proc_traj'\n",
    "topfile =  indir+'/2agy-as1.prmtop'\n",
    "from glob import glob\n",
    "traj_list = glob(indir+'/2agy-*-as1.nc')"
   ]
  },
  {
   "cell_type": "code",
   "execution_count": 5,
   "metadata": {
    "collapsed": false
   },
   "outputs": [
    {
     "name": "stdout",
     "output_type": "stream",
     "text": [
      "34\n",
      "159\n"
     ]
    }
   ],
   "source": [
    "import numpy as np\n",
    "import pickle\n",
    "high_dihed = np.load('../Common/high_variance_dihedrals_active_site.npy')\n",
    "print(len(high_dihed))\n",
    "all_dihed = pickle.load(open('../Common/2agy_as-1_dihedrals.pickl', 'rb'))\n",
    "print(len(all_dihed))"
   ]
  },
  {
   "cell_type": "code",
   "execution_count": 6,
   "metadata": {
    "collapsed": false
   },
   "outputs": [
    {
     "data": {
      "text/plain": [
       "68"
      ]
     },
     "execution_count": 6,
     "metadata": {},
     "output_type": "execute_result"
    }
   ],
   "source": [
    "# add_dihedrals(indexes, deg=False, cossin=False, periodic=True)\n",
    "feat = coor.featurizer(topfile)\n",
    "feat.add_dihedrals(indexes=high_dihed, cossin=True, periodic=True)\n",
    "feat.dimension()\n"
   ]
  },
  {
   "cell_type": "code",
   "execution_count": 7,
   "metadata": {
    "collapsed": false
   },
   "outputs": [],
   "source": [
    "inp = coor.load(traj_list, feat)\n",
    "# print('number of trajectories = ',inp.number_of_trajectories())\n",
    "# print('trajectory length = ',inp.trajectory_length(0))\n",
    "# print('trajectory time step = ',100 / (inp.trajectory_length(0)),'ns')\n",
    "# print('number of dimension = ',inp.dimension())"
   ]
  },
  {
   "cell_type": "code",
   "execution_count": 8,
   "metadata": {
    "collapsed": true
   },
   "outputs": [],
   "source": [
    "dt = 0.01 # nanoseconds per frame\n",
    "stride = 10 # frames per nanosecond"
   ]
  },
  {
   "cell_type": "code",
   "execution_count": 9,
   "metadata": {
    "collapsed": true
   },
   "outputs": [],
   "source": [
    "tica_lag = 55\n",
    "tica_obj = coor.tica(inp, lag=int(tica_lag/dt), var_cutoff=0.95, kinetic_map=True, stride=stride)"
   ]
  },
  {
   "cell_type": "code",
   "execution_count": 10,
   "metadata": {
    "collapsed": false
   },
   "outputs": [],
   "source": [
    "Y = tica_obj.get_output()"
   ]
  },
  {
   "cell_type": "code",
   "execution_count": 11,
   "metadata": {
    "collapsed": false
   },
   "outputs": [
    {
     "name": "stdout",
     "output_type": "stream",
     "text": [
      "3\n"
     ]
    }
   ],
   "source": [
    "n_dims = tica_obj.dimension()\n",
    "print(n_dims)"
   ]
  },
  {
   "cell_type": "markdown",
   "metadata": {},
   "source": [
    "### Cluster"
   ]
  },
  {
   "cell_type": "code",
   "execution_count": 12,
   "metadata": {
    "collapsed": false
   },
   "outputs": [
    {
     "data": {
      "text/plain": [
       "100"
      ]
     },
     "execution_count": 12,
     "metadata": {},
     "output_type": "execute_result"
    }
   ],
   "source": [
    "n_trajs = len(inp)\n",
    "n_frames = inp[0].shape[0]\n",
    "n_trajs"
   ]
  },
  {
   "cell_type": "code",
   "execution_count": 13,
   "metadata": {
    "collapsed": false
   },
   "outputs": [
    {
     "data": {
      "text/plain": [
       "316"
      ]
     },
     "execution_count": 13,
     "metadata": {},
     "output_type": "execute_result"
    }
   ],
   "source": [
    "n_clusters = int(np.sqrt(n_trajs*n_frames/stride))\n",
    "n_clusters"
   ]
  },
  {
   "cell_type": "code",
   "execution_count": 14,
   "metadata": {
    "collapsed": false
   },
   "outputs": [
    {
     "name": "stdout",
     "output_type": "stream",
     "text": [
      "01-11-17 16:52:54 pyemma.coordinates.clustering.kmeans.KmeansClustering[3] INFO     Cluster centers converged after 17 steps.\n"
     ]
    }
   ],
   "source": [
    "clustering = coor.cluster_kmeans(Y,k=n_clusters, max_iter=100, stride=stride)\n"
   ]
  },
  {
   "cell_type": "code",
   "execution_count": 15,
   "metadata": {
    "collapsed": true
   },
   "outputs": [],
   "source": [
    "dtrajs = clustering.dtrajs"
   ]
  },
  {
   "cell_type": "code",
   "execution_count": 16,
   "metadata": {
    "collapsed": false
   },
   "outputs": [
    {
     "data": {
      "text/plain": [
       "(10000,)"
      ]
     },
     "execution_count": 16,
     "metadata": {},
     "output_type": "execute_result"
    }
   ],
   "source": [
    "# dtrajs = [dtraj.flatten() for dtraj in dtrajs]\n",
    "dtrajs[0].shape"
   ]
  },
  {
   "cell_type": "code",
   "execution_count": 17,
   "metadata": {
    "collapsed": false
   },
   "outputs": [
    {
     "name": "stderr",
     "output_type": "stream",
     "text": [
      "/Users/robert_arbon/anaconda/envs/ml4dyn/lib/python3.5/site-packages/matplotlib/cbook.py:136: MatplotlibDeprecationWarning: The spectral and spectral_r colormap was deprecated in version 2.0. Use nipy_spectral and nipy_spectral_r instead.\n",
      "  warnings.warn(message, mplDeprecation, stacklevel=1)\n"
     ]
    },
    {
     "data": {
      "text/plain": [
       "[<matplotlib.lines.Line2D at 0x111b56f60>]"
      ]
     },
     "execution_count": 17,
     "metadata": {},
     "output_type": "execute_result"
    },
    {
     "data": {
      "image/png": "[encoded data removed]",
      "text/plain": [
       "<matplotlib.figure.Figure at 0x111b56f98>"
      ]
     },
     "metadata": {},
     "output_type": "display_data"
    }
   ],
   "source": [
    "mplt.plot_free_energy(np.vstack(Y)[:,0], np.vstack(Y)[:,1])\n",
    "cc_x = clustering.clustercenters[:,0]\n",
    "cc_y = clustering.clustercenters[:,1]\n",
    "plot(cc_x,cc_y, linewidth=0, marker='o', markersize=5, color='black')"
   ]
  },
  {
   "cell_type": "markdown",
   "metadata": {},
   "source": [
    "### Compare estimators and and sample size"
   ]
  },
  {
   "cell_type": "code",
   "execution_count": null,
   "metadata": {
    "collapsed": true
   },
   "outputs": [],
   "source": []
  },
  {
   "cell_type": "code",
   "execution_count": 64,
   "metadata": {
    "collapsed": false,
    "scrolled": true
   },
   "outputs": [
    {
     "name": "stdout",
     "output_type": "stream",
     "text": [
      "100\n",
      "177\n",
      "316\n",
      "562\n",
      "1000\n"
     ]
    }
   ],
   "source": [
    "msm_lag = int(50/dt)\n",
    "samples = np.logspace(2,3, 5)\n",
    "ts = []\n",
    "method = []\n",
    "nsamples = []\n",
    "for n in samples:\n",
    "    print(int(n))\n",
    "    M = msm.BayesianMSM(lag=msm_lag, nsamples=int(n), count_mode='sliding')\n",
    "    M.fit(dtrajs)\n",
    "    \n",
    "    tmp=M.sample_f('timescales', 1)\n",
    "    tmp = [x[0] for x in tmp]\n",
    "    ts.extend(tmp)\n",
    "    method.extend(['sliding']*int(n))\n",
    "    nsamples.extend([int(n)]*int(n))\n",
    "#     method.append('sliding')\n",
    " "
   ]
  },
  {
   "cell_type": "code",
   "execution_count": 65,
   "metadata": {
    "collapsed": false
   },
   "outputs": [
    {
     "name": "stdout",
     "output_type": "stream",
     "text": [
      "100\n",
      "177\n",
      "316\n",
      "562\n",
      "1000\n"
     ]
    }
   ],
   "source": [
    "for n in samples:\n",
    "    print(int(n))\n",
    "    M = msm.BayesianMSM(lag=msm_lag, nsamples=int(n), count_mode='effective')\n",
    "    M.fit(dtrajs)\n",
    "    \n",
    "    tmp=M.sample_f('timescales', 1)\n",
    "    tmp = [x[0] for x in tmp]\n",
    "    ts.extend(tmp)\n",
    "    method.extend(['effective']*int(n))\n",
    "    nsamples.extend([int(n)]*int(n))\n",
    " "
   ]
  },
  {
   "cell_type": "code",
   "execution_count": 66,
   "metadata": {
    "collapsed": false
   },
   "outputs": [
    {
     "name": "stdout",
     "output_type": "stream",
     "text": [
      "100\n"
     ]
    },
    {
     "name": "stderr",
     "output_type": "stream",
     "text": [
      "/Users/robert_arbon/anaconda/envs/ml4dyn/lib/python3.5/site-packages/msmtools/analysis/dense/decomposition.py:545: SpectralWarning: Multiple eigenvalues with magnitude one.\n",
      "  warnings.warn('Multiple eigenvalues with magnitude one.', SpectralWarning)\n"
     ]
    },
    {
     "name": "stdout",
     "output_type": "stream",
     "text": [
      "177\n"
     ]
    },
    {
     "name": "stderr",
     "output_type": "stream",
     "text": [
      "/Users/robert_arbon/anaconda/envs/ml4dyn/lib/python3.5/site-packages/msmtools/analysis/dense/decomposition.py:545: SpectralWarning: Multiple eigenvalues with magnitude one.\n",
      "  warnings.warn('Multiple eigenvalues with magnitude one.', SpectralWarning)\n"
     ]
    },
    {
     "name": "stdout",
     "output_type": "stream",
     "text": [
      "316\n"
     ]
    },
    {
     "name": "stderr",
     "output_type": "stream",
     "text": [
      "/Users/robert_arbon/anaconda/envs/ml4dyn/lib/python3.5/site-packages/msmtools/analysis/dense/decomposition.py:545: SpectralWarning: Multiple eigenvalues with magnitude one.\n",
      "  warnings.warn('Multiple eigenvalues with magnitude one.', SpectralWarning)\n"
     ]
    },
    {
     "name": "stdout",
     "output_type": "stream",
     "text": [
      "562\n"
     ]
    },
    {
     "name": "stderr",
     "output_type": "stream",
     "text": [
      "/Users/robert_arbon/anaconda/envs/ml4dyn/lib/python3.5/site-packages/msmtools/analysis/dense/decomposition.py:545: SpectralWarning: Multiple eigenvalues with magnitude one.\n",
      "  warnings.warn('Multiple eigenvalues with magnitude one.', SpectralWarning)\n"
     ]
    },
    {
     "name": "stdout",
     "output_type": "stream",
     "text": [
      "1000\n"
     ]
    },
    {
     "name": "stderr",
     "output_type": "stream",
     "text": [
      "/Users/robert_arbon/anaconda/envs/ml4dyn/lib/python3.5/site-packages/msmtools/analysis/dense/decomposition.py:545: SpectralWarning: Multiple eigenvalues with magnitude one.\n",
      "  warnings.warn('Multiple eigenvalues with magnitude one.', SpectralWarning)\n"
     ]
    }
   ],
   "source": [
    "for n in samples:\n",
    "    print(int(n))\n",
    "    M = msm.BayesianMSM(lag=msm_lag, nsamples=int(n), count_mode='sample')\n",
    "    M.fit(dtrajs)\n",
    "    \n",
    "    tmp=M.sample_f('timescales', 1)\n",
    "    tmp = [x[0] for x in tmp]\n",
    "    ts.extend(tmp)\n",
    "    method.extend(['sample']*int(n))\n",
    "    nsamples.extend([int(n)]*int(n))\n",
    " "
   ]
  },
  {
   "cell_type": "code",
   "execution_count": 72,
   "metadata": {
    "collapsed": false
   },
   "outputs": [
    {
     "data": {
      "text/plain": [
       "6465"
      ]
     },
     "execution_count": 72,
     "metadata": {},
     "output_type": "execute_result"
    }
   ],
   "source": [
    "(1000+562+316+177+100)*3\n"
   ]
  },
  {
   "cell_type": "code",
   "execution_count": 70,
   "metadata": {
    "collapsed": false
   },
   "outputs": [
    {
     "data": {
      "text/plain": [
       "6465"
      ]
     },
     "execution_count": 70,
     "metadata": {},
     "output_type": "execute_result"
    }
   ],
   "source": [
    "len(ts)"
   ]
  },
  {
   "cell_type": "code",
   "execution_count": 73,
   "metadata": {
    "collapsed": false
   },
   "outputs": [
    {
     "name": "stderr",
     "output_type": "stream",
     "text": [
      "/Users/robert_arbon/anaconda/envs/ml4dyn/lib/python3.5/site-packages/msmtools/analysis/dense/decomposition.py:545: SpectralWarning: Multiple eigenvalues with magnitude one.\n",
      "  warnings.warn('Multiple eigenvalues with magnitude one.', SpectralWarning)\n"
     ]
    }
   ],
   "source": [
    "for met in ['sliding', 'effective', 'sample']:\n",
    "    M = msm.MaximumLikelihoodMSM(lag=msm_lag, count_mode=met)\n",
    "    M.fit(dtrajs)\n",
    "    \n",
    "    tmp = M.timescales(1)\n",
    "    ts.extend(tmp)\n",
    "    method.extend(['mle_'+met])\n",
    "    nsamples.extend([1])\n"
   ]
  },
  {
   "cell_type": "code",
   "execution_count": 74,
   "metadata": {
    "collapsed": true
   },
   "outputs": [],
   "source": [
    "df = pd.DataFrame(data={'timescale': ts,  'method': method, 'nsamples': nsamples})"
   ]
  },
  {
   "cell_type": "code",
   "execution_count": 102,
   "metadata": {
    "collapsed": false
   },
   "outputs": [],
   "source": [
    "df['timescale'] *= dt"
   ]
  },
  {
   "cell_type": "code",
   "execution_count": 105,
   "metadata": {
    "collapsed": false
   },
   "outputs": [
    {
     "data": {
      "text/html": [
       "<div>\n",
       "<style>\n",
       "    .dataframe thead tr:only-child th {\n",
       "        text-align: right;\n",
       "    }\n",
       "\n",
       "    .dataframe thead th {\n",
       "        text-align: left;\n",
       "    }\n",
       "\n",
       "    .dataframe tbody tr th {\n",
       "        vertical-align: top;\n",
       "    }\n",
       "</style>\n",
       "<table border=\"1\" class=\"dataframe\">\n",
       "  <thead>\n",
       "    <tr style=\"text-align: right;\">\n",
       "      <th></th>\n",
       "      <th></th>\n",
       "      <th>mean</th>\n",
       "      <th>std</th>\n",
       "    </tr>\n",
       "    <tr>\n",
       "      <th>method</th>\n",
       "      <th>nsamples</th>\n",
       "      <th></th>\n",
       "      <th></th>\n",
       "    </tr>\n",
       "  </thead>\n",
       "  <tbody>\n",
       "    <tr>\n",
       "      <th rowspan=\"5\" valign=\"top\">effective</th>\n",
       "      <th>100</th>\n",
       "      <td>436.982893</td>\n",
       "      <td>5.011282</td>\n",
       "    </tr>\n",
       "    <tr>\n",
       "      <th>177</th>\n",
       "      <td>436.280438</td>\n",
       "      <td>5.659207</td>\n",
       "    </tr>\n",
       "    <tr>\n",
       "      <th>316</th>\n",
       "      <td>437.659059</td>\n",
       "      <td>5.465435</td>\n",
       "    </tr>\n",
       "    <tr>\n",
       "      <th>562</th>\n",
       "      <td>436.812183</td>\n",
       "      <td>5.521922</td>\n",
       "    </tr>\n",
       "    <tr>\n",
       "      <th>1000</th>\n",
       "      <td>436.793718</td>\n",
       "      <td>5.323713</td>\n",
       "    </tr>\n",
       "    <tr>\n",
       "      <th>mle_effective</th>\n",
       "      <th>1</th>\n",
       "      <td>436.445504</td>\n",
       "      <td>NaN</td>\n",
       "    </tr>\n",
       "    <tr>\n",
       "      <th>mle_sample</th>\n",
       "      <th>1</th>\n",
       "      <td>inf</td>\n",
       "      <td>NaN</td>\n",
       "    </tr>\n",
       "    <tr>\n",
       "      <th>mle_sliding</th>\n",
       "      <th>1</th>\n",
       "      <td>440.634247</td>\n",
       "      <td>NaN</td>\n",
       "    </tr>\n",
       "    <tr>\n",
       "      <th rowspan=\"5\" valign=\"top\">sample</th>\n",
       "      <th>100</th>\n",
       "      <td>inf</td>\n",
       "      <td>NaN</td>\n",
       "    </tr>\n",
       "    <tr>\n",
       "      <th>177</th>\n",
       "      <td>inf</td>\n",
       "      <td>NaN</td>\n",
       "    </tr>\n",
       "    <tr>\n",
       "      <th>316</th>\n",
       "      <td>inf</td>\n",
       "      <td>NaN</td>\n",
       "    </tr>\n",
       "    <tr>\n",
       "      <th>562</th>\n",
       "      <td>inf</td>\n",
       "      <td>NaN</td>\n",
       "    </tr>\n",
       "    <tr>\n",
       "      <th>1000</th>\n",
       "      <td>inf</td>\n",
       "      <td>NaN</td>\n",
       "    </tr>\n",
       "    <tr>\n",
       "      <th rowspan=\"5\" valign=\"top\">sliding</th>\n",
       "      <th>100</th>\n",
       "      <td>440.066943</td>\n",
       "      <td>4.503658</td>\n",
       "    </tr>\n",
       "    <tr>\n",
       "      <th>177</th>\n",
       "      <td>440.902345</td>\n",
       "      <td>4.650504</td>\n",
       "    </tr>\n",
       "    <tr>\n",
       "      <th>316</th>\n",
       "      <td>440.436323</td>\n",
       "      <td>4.992679</td>\n",
       "    </tr>\n",
       "    <tr>\n",
       "      <th>562</th>\n",
       "      <td>441.054069</td>\n",
       "      <td>5.183777</td>\n",
       "    </tr>\n",
       "    <tr>\n",
       "      <th>1000</th>\n",
       "      <td>441.063673</td>\n",
       "      <td>4.897239</td>\n",
       "    </tr>\n",
       "  </tbody>\n",
       "</table>\n",
       "</div>"
      ],
      "text/plain": [
       "                              mean       std\n",
       "method        nsamples                      \n",
       "effective     100       436.982893  5.011282\n",
       "              177       436.280438  5.659207\n",
       "              316       437.659059  5.465435\n",
       "              562       436.812183  5.521922\n",
       "              1000      436.793718  5.323713\n",
       "mle_effective 1         436.445504       NaN\n",
       "mle_sample    1                inf       NaN\n",
       "mle_sliding   1         440.634247       NaN\n",
       "sample        100              inf       NaN\n",
       "              177              inf       NaN\n",
       "              316              inf       NaN\n",
       "              562              inf       NaN\n",
       "              1000             inf       NaN\n",
       "sliding       100       440.066943  4.503658\n",
       "              177       440.902345  4.650504\n",
       "              316       440.436323  4.992679\n",
       "              562       441.054069  5.183777\n",
       "              1000      441.063673  4.897239"
      ]
     },
     "execution_count": 105,
     "metadata": {},
     "output_type": "execute_result"
    }
   ],
   "source": [
    "df.groupby(['method', 'nsamples']).aggregate([np.mean, np.std])['timescale']"
   ]
  },
  {
   "cell_type": "code",
   "execution_count": 106,
   "metadata": {
    "collapsed": false,
    "scrolled": false
   },
   "outputs": [
    {
     "data": {
      "text/plain": [
       "<seaborn.axisgrid.FacetGrid at 0x134963860>"
      ]
     },
     "execution_count": 106,
     "metadata": {},
     "output_type": "execute_result"
    },
    {
     "data": {
      "image/png": "[encoded data removed]",
      "text/plain": [
       "<matplotlib.figure.Figure at 0x134d1db70>"
      ]
     },
     "metadata": {},
     "output_type": "display_data"
    }
   ],
   "source": [
    "g = sns.FacetGrid(col='method', hue='nsamples', data =df.loc[df['method'].isin(['sliding', 'effective'])])\n",
    "g.map(sns.distplot, 'timescale', hist=False)\n"
   ]
  },
  {
   "cell_type": "code",
   "execution_count": null,
   "metadata": {
    "collapsed": true
   },
   "outputs": [],
   "source": []
  }
 ],
 "metadata": {
  "kernelspec": {
   "display_name": "Python 3",
   "language": "python",
   "name": "python3"
  },
  "language_info": {
   "codemirror_mode": {
    "name": "ipython",
    "version": 3
   },
   "file_extension": ".py",
   "mimetype": "text/x-python",
   "name": "python",
   "nbconvert_exporter": "python",
   "pygments_lexer": "ipython3",
   "version": "3.5.2"
  }
 },
 "nbformat": 4,
 "nbformat_minor": 2
}
